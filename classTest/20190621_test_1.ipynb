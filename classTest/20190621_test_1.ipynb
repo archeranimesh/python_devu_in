{
 "cells": [
  {
   "cell_type": "markdown",
   "metadata": {},
   "source": [
    "<img src=\"https://devu.in/devu-logo.png\" alt=\"devU.in logo\">"
   ]
  },
  {
   "cell_type": "markdown",
   "metadata": {},
   "source": [
    "## Instructions for python basics, test paper 1.\n",
    "\n",
    "- All questions are compulsory.\n",
    "- Questions 1-5 have 2 marks each. Questions 6-10 have 3 marks each. Questions 10-15 have 5 marks each. No negative marking.\n",
    "- Total marks: 50. Test time: 120 minutes\n",
    "\n",
    "<p>Sumit the testpaper via <strong>email to ram@devu.in </strong>(HTML format preferred).</p>"
   ]
  },
  {
   "cell_type": "markdown",
   "metadata": {},
   "source": [
    "### Fill the details below\n",
    "\n",
    "- <strong>Name</strong> : \n",
    "- <strong>Batch</strong> : [HSR, RM Nagar, Noida, Online] \n",
    "- <strong>Batch cycle</strong> : [Weekdays/Weekends] "
   ]
  },
  {
   "cell_type": "markdown",
   "metadata": {},
   "source": [
    "#### 1.  Who is the author of python programming language?\n",
    "```\n",
    "    A. Monte Python\n",
    "    B. Guido Van Rossum\n",
    "    C. Larry Wall\n",
    "    D. David H. Hansson\n",
    "```"
   ]
  },
  {
   "cell_type": "code",
   "execution_count": 1,
   "metadata": {},
   "outputs": [],
   "source": [
    "# Answer: "
   ]
  },
  {
   "cell_type": "markdown",
   "metadata": {},
   "source": [
    "#### 2.  Which of them will be False?\n",
    "```\n",
    "    A. \"hello\" == 'hello'\n",
    "    B. 'a' == 'A'\n",
    "    C. 5 in [3, 4, 5]\n",
    "    D. 'a' not in \"AEIOU\"\n",
    "```"
   ]
  },
  {
   "cell_type": "code",
   "execution_count": 2,
   "metadata": {},
   "outputs": [],
   "source": [
    "# Answer: "
   ]
  },
  {
   "cell_type": "markdown",
   "metadata": {},
   "source": [
    "#### 3. What will be the output of following statement?\n",
    "\n",
    "```\n",
    "[1, 2, 3] * 2\n",
    "```\n",
    "\n",
    "```\n",
    "    A. [2, 4, 6]\n",
    "    B. [1, 2, 3, 1, 2, 3]\n",
    "    C. [[1, 2, 3], [1, 2, 3]]\n",
    "    D. [[1, 2, 3]]\n",
    "```"
   ]
  },
  {
   "cell_type": "code",
   "execution_count": 3,
   "metadata": {},
   "outputs": [],
   "source": [
    "# Answer: "
   ]
  },
  {
   "cell_type": "markdown",
   "metadata": {},
   "source": [
    "#### 4. What will be the output of following statement?\n",
    "\n",
    "```\n",
    "len(\"\"\"\"\"\")\n",
    "```\n",
    "\n",
    "```\n",
    "    A. 0\n",
    "    B. 1\n",
    "    C. 3\n",
    "    D. 6\n",
    "```"
   ]
  },
  {
   "cell_type": "code",
   "execution_count": 4,
   "metadata": {},
   "outputs": [],
   "source": [
    "# Answer: "
   ]
  },
  {
   "cell_type": "markdown",
   "metadata": {},
   "source": [
    "#### 5. What will be the output of following statement?\n",
    "\n",
    "```\n",
    "for i in range(3):\n",
    "    for j in \"ant\":\n",
    "        print(i, end=\" \")\n",
    "```\n",
    "\n",
    "```\n",
    "    A. a n t\n",
    "    B. a n t a n t a n t\n",
    "    C. 0 0 0 1 1 1 2 2 2 \n",
    "    D. aaa nnn ttt\n",
    "```"
   ]
  },
  {
   "cell_type": "code",
   "execution_count": 5,
   "metadata": {},
   "outputs": [],
   "source": [
    "# Answer: "
   ]
  },
  {
   "cell_type": "markdown",
   "metadata": {},
   "source": [
    "#### 6. Write a program count the number of consonants in the word \"Aeroplane\"."
   ]
  },
  {
   "cell_type": "code",
   "execution_count": null,
   "metadata": {},
   "outputs": [],
   "source": []
  },
  {
   "cell_type": "markdown",
   "metadata": {},
   "source": [
    "#### 7. Write a program to swap the case of each letter in a given word.\n",
    "\n",
    "```\n",
    "    Example: 'AeROplaNe' --> 'aEroPLAnE'\n",
    "```"
   ]
  },
  {
   "cell_type": "code",
   "execution_count": null,
   "metadata": {},
   "outputs": [],
   "source": []
  },
  {
   "cell_type": "markdown",
   "metadata": {},
   "source": [
    "#### 8. Write a program to remove duplicate letters from a given word (case-insensitive).\n",
    "```\n",
    "    Example1: 'foosball' --> 'fosbal'\n",
    "    Example2: 'Aeroplane' --> 'Aeropln'\n",
    "```"
   ]
  },
  {
   "cell_type": "code",
   "execution_count": null,
   "metadata": {},
   "outputs": [],
   "source": []
  },
  {
   "cell_type": "markdown",
   "metadata": {},
   "source": [
    "#### 9. Write a program to return a list of all the names before a specified name.\n",
    "```\n",
    "    >>> ['Sachin', 'Sourav', 'Rahul', 'Virendar', 'Suresh', 'Mahindar'], 'Rahul'\n",
    "    ['Sachin', 'Sourav']\n",
    "```"
   ]
  },
  {
   "cell_type": "code",
   "execution_count": null,
   "metadata": {},
   "outputs": [],
   "source": []
  },
  {
   "cell_type": "markdown",
   "metadata": {},
   "source": [
    "#### 10. Write a program to count the number of names beginning with vowels in a given tuple of names.\n",
    "\n",
    "```\n",
    "    >>> ['Apple', 'Google', 'iGate', 'devU', '3M', 'Oracle']\n",
    "    3\n",
    "```"
   ]
  },
  {
   "cell_type": "code",
   "execution_count": null,
   "metadata": {},
   "outputs": [],
   "source": []
  },
  {
   "cell_type": "markdown",
   "metadata": {},
   "source": [
    "#### 11. WAP to validate a given password with below criteria:\n",
    "\n",
    "```\n",
    "    i) Password length must be 6 or more\n",
    "    ii) It must contain at least one digit\n",
    "    iii) It must contain at least one special character\n",
    "    iv) It must contain at least one UPPERCASE character.\n",
    "    v) It must begin with an alphabet.\n",
    "```"
   ]
  },
  {
   "cell_type": "code",
   "execution_count": null,
   "metadata": {},
   "outputs": [],
   "source": []
  },
  {
   "cell_type": "markdown",
   "metadata": {},
   "source": [
    "#### 12. WAP to find the uncommon data items in two given lists. Also sort the result and remove duplicates if any.\n",
    "\n",
    "```\n",
    "    >>> [1, 2, 4, 3, 5, 5, 6], [4, 5, 1, 1, 7, 9, 3, 7]\n",
    "    [2, 6, 7]\n",
    "```"
   ]
  },
  {
   "cell_type": "markdown",
   "metadata": {},
   "source": [
    "#### 13. WAP to find the number of occurances of digit in book page numbers. \n",
    "\n",
    "```\n",
    "Example:\n",
    "    \n",
    "    Book size: 11 , i.e, page numbers are [1, 2, 3, 4, 5, 6, 7, 8,  10, 11] \n",
    "    Digit to find: 1\n",
    "        \n",
    "    Output: 4 for number of occurances of 1 in [1, 10, 11]\n",
    "```"
   ]
  },
  {
   "cell_type": "markdown",
   "metadata": {},
   "source": [
    "#### 14. WAP to sum of first digits in a given list of number.\n",
    "\n",
    "```\n",
    "    >>> [1, 23, 450, 333, 5000]\n",
    "    Hint: 1+2+4+3+5\n",
    "    Output: 15\n",
    "```"
   ]
  },
  {
   "cell_type": "code",
   "execution_count": null,
   "metadata": {},
   "outputs": [],
   "source": []
  },
  {
   "cell_type": "markdown",
   "metadata": {},
   "source": [
    "#### 15. WAP to validate a given ipv4 address. For the ipv4 address to valid their must be only 4 octets and all of them must be between 0-255.\n",
    "\n",
    "```\n",
    "Example: \n",
    "    '192.168.1.10' --> Valid ip address\n",
    "    '10.234.567.2' --> Invalid ip address\n",
    "    '10.23.34.5.6' --> Invalid ip address\n",
    "```"
   ]
  },
  {
   "cell_type": "code",
   "execution_count": null,
   "metadata": {},
   "outputs": [],
   "source": []
  }
 ],
 "metadata": {
  "kernelspec": {
   "display_name": "Python 3",
   "language": "python",
   "name": "python3"
  },
  "language_info": {
   "codemirror_mode": {
    "name": "ipython",
    "version": 3
   },
   "file_extension": ".py",
   "mimetype": "text/x-python",
   "name": "python",
   "nbconvert_exporter": "python",
   "pygments_lexer": "ipython3",
   "version": "3.4.4"
  }
 },
 "nbformat": 4,
 "nbformat_minor": 2
}
